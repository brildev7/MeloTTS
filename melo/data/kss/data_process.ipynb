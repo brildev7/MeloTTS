{
 "cells": [
  {
   "cell_type": "code",
   "execution_count": 1,
   "metadata": {},
   "outputs": [
    {
     "data": {
      "application/vnd.jupyter.widget-view+json": {
       "model_id": "7d57246615a440c680e44696961ec491",
       "version_major": 2,
       "version_minor": 0
      },
      "text/plain": [
       "Generating train split:   0%|          | 0/12854 [00:00<?, ? examples/s]"
      ]
     },
     "metadata": {},
     "output_type": "display_data"
    },
    {
     "data": {
      "text/plain": [
       "{'audio': Audio(sampling_rate=44100, mono=True, decode=True, id=None),\n",
       " 'original_script': Value(dtype='string', id=None),\n",
       " 'expanded_script': Value(dtype='string', id=None),\n",
       " 'decomposed_script': Value(dtype='string', id=None),\n",
       " 'duration': Value(dtype='float32', id=None),\n",
       " 'english_translation': Value(dtype='string', id=None)}"
      ]
     },
     "execution_count": 1,
     "metadata": {},
     "output_type": "execute_result"
    }
   ],
   "source": [
    "from datasets import load_dataset\n",
    "from tqdm import tqdm\n",
    "\n",
    "dataset = load_dataset(\"Bingsu/KSS_Dataset\")\n",
    "dataset[\"train\"].features"
   ]
  },
  {
   "cell_type": "code",
   "execution_count": 2,
   "metadata": {},
   "outputs": [
    {
     "data": {
      "text/plain": [
       "DatasetDict({\n",
       "    train: Dataset({\n",
       "        features: ['audio', 'original_script', 'expanded_script', 'decomposed_script', 'duration', 'english_translation'],\n",
       "        num_rows: 12854\n",
       "    })\n",
       "})"
      ]
     },
     "execution_count": 2,
     "metadata": {},
     "output_type": "execute_result"
    }
   ],
   "source": [
    "dataset"
   ]
  },
  {
   "cell_type": "code",
   "execution_count": 3,
   "metadata": {},
   "outputs": [
    {
     "data": {
      "text/plain": [
       "[{'path': None,\n",
       "  'array': array([ 0.00000000e+00,  3.05175781e-05, -4.57763672e-05, ...,\n",
       "          0.00000000e+00, -3.05175781e-05, -3.05175781e-05]),\n",
       "  'sampling_rate': 44100},\n",
       " {'path': None,\n",
       "  'array': array([ 3.05175781e-04,  6.10351562e-05, -3.66210938e-04, ...,\n",
       "          6.71386719e-04,  7.01904297e-04,  7.32421875e-04]),\n",
       "  'sampling_rate': 44100}]"
      ]
     },
     "execution_count": 3,
     "metadata": {},
     "output_type": "execute_result"
    }
   ],
   "source": [
    "dataset['train']['audio'][:2]"
   ]
  },
  {
   "cell_type": "code",
   "execution_count": 4,
   "metadata": {},
   "outputs": [],
   "source": [
    "import soundfile as sf\n",
    "\n",
    "# # 첫 번째 샘플의 오디오와 스크립트 가져오기\n",
    "# data = dataset['train'][0]\n",
    "# audio = data['audio']['array']\n",
    "# original_script = data['original_script']\n",
    "# expanded_script = data['expanded_script']\n",
    "# decomposed_script = data['decomposed_script']\n",
    "# duration = data['duration']\n",
    "# english_translation = data['english_translation']\n",
    "\n",
    "# # 오디오 파일 저장\n",
    "# sf.write('data_audio.wav', audio, data['audio']['sampling_rate'])"
   ]
  },
  {
   "cell_type": "code",
   "execution_count": 5,
   "metadata": {},
   "outputs": [
    {
     "data": {
      "text/plain": [
       "'/ssd_data/code/aibox_tts/melo'"
      ]
     },
     "execution_count": 5,
     "metadata": {},
     "output_type": "execute_result"
    }
   ],
   "source": [
    "import os\n",
    "os.getcwd()"
   ]
  },
  {
   "cell_type": "code",
   "execution_count": 6,
   "metadata": {},
   "outputs": [
    {
     "data": {
      "text/plain": [
       "'/ssd_data/code/aibox_tts/melo/melo/data/kss/wavs'"
      ]
     },
     "execution_count": 6,
     "metadata": {},
     "output_type": "execute_result"
    }
   ],
   "source": [
    "data_save_dir = os.path.join(os.getcwd(), \"melo/data/kss\", \"wavs\")\n",
    "data_save_dir\n"
   ]
  },
  {
   "cell_type": "code",
   "execution_count": null,
   "metadata": {},
   "outputs": [],
   "source": [
    "len(dataset['train'])"
   ]
  },
  {
   "cell_type": "code",
   "execution_count": null,
   "metadata": {},
   "outputs": [],
   "source": [
    "# for i, data in tqdm(enumerate(dataset['train'])):\n",
    "#     audio = data['audio']['array']\n",
    "#     original_script = data['original_script']\n",
    "#     expanded_script = data['expanded_script']\n",
    "#     decomposed_script = data['decomposed_script']\n",
    "#     duration = data['duration']\n",
    "#     english_translation = data['english_translation']\n",
    "\n",
    "#     sf.write(data_save_dir + '/' + '{}.wav'.format(i), audio, data['audio']['sampling_rate'])\n",
    "        "
   ]
  },
  {
   "cell_type": "code",
   "execution_count": 10,
   "metadata": {},
   "outputs": [
    {
     "name": "stderr",
     "output_type": "stream",
     "text": [
      "0it [00:00, ?it/s]"
     ]
    },
    {
     "name": "stderr",
     "output_type": "stream",
     "text": [
      "12854it [00:07, 1687.32it/s]\n"
     ]
    }
   ],
   "source": [
    "with open(os.path.join(os.getcwd(),\"data\", \"kss\") + \"/\" + \"metadata.list\", \"w\") as f:\n",
    "    for i, data in tqdm(enumerate(dataset['train'])):\n",
    "        original_script = data['original_script']\n",
    "        f.write(\"data/kss/wavs/{}.wav|KR-KSS|KR|{}\\n\".format(i, original_script))\n"
   ]
  },
  {
   "cell_type": "code",
   "execution_count": null,
   "metadata": {},
   "outputs": [],
   "source": [
    "\n",
    "\n"
   ]
  }
 ],
 "metadata": {
  "kernelspec": {
   "display_name": "Python 3 (ipykernel)",
   "language": "python",
   "name": "python3"
  }
 },
 "nbformat": 4,
 "nbformat_minor": 4
}
