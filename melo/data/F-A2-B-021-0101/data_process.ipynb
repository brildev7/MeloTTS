{
 "cells": [
  {
   "cell_type": "code",
   "execution_count": null,
   "metadata": {},
   "outputs": [],
   "source": [
    "import os\n",
    "from glob import glob\n",
    "import pandas as pd\n",
    "\n",
    "print(os.getcwd())\n",
    "files = glob(\"data/F-A2-B-021-0101/json/*\", recursive=True)\n",
    "files"
   ]
  },
  {
   "cell_type": "code",
   "execution_count": null,
   "metadata": {},
   "outputs": [],
   "source": [
    "import os\n",
    "import json\n",
    "from tqdm import tqdm\n",
    "\n",
    "DATA_DIR = \"/data/F-A2-B-021-0101\"\n",
    "data_save_path = os.path.join(os.getcwd() + DATA_DIR)\n",
    "\n",
    "for file in files:\n",
    "    print(\"=============== file ==============\")\n",
    "    print(file)\n",
    "    with open(file, \"r\") as f:\n",
    "        data = json.load(f)\n",
    "        \n",
    "        with open(os.path.join(data_save_path, \"metadata.list\"), \"a\") as f:\n",
    "            for d in tqdm(data):\n",
    "                sentences = d['sentences']\n",
    "                for sentence in tqdm(sentences):\n",
    "                    filename = sentence['id']\n",
    "                    text = sentence['origin_text']\n",
    "                    \n",
    "                    meta_data = \"data/F-A2-B-021-0101/wavs/{}.wav|AIHUB-F-A2-B-021-0101|KR|{}\\n\".format(filename, text)\n",
    "                    print(meta_data)\n",
    "                    f.write(meta_data)\n"
   ]
  },
  {
   "cell_type": "code",
   "execution_count": null,
   "metadata": {},
   "outputs": [],
   "source": []
  }
 ],
 "metadata": {
  "kernelspec": {
   "display_name": "Python 3 (ipykernel)",
   "language": "python",
   "name": "python3"
  }
 },
 "nbformat": 4,
 "nbformat_minor": 2
}
